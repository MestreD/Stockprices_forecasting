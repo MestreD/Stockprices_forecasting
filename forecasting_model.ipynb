{
 "cells": [
  {
   "cell_type": "code",
   "execution_count": 13,
   "metadata": {},
   "outputs": [],
   "source": [
    "import pandas as pd\n",
    "import warnings; \n",
    "warnings.simplefilter('ignore')\n",
    "#Yahoo Finance API\n",
    "import yahoo_fin.stock_info as yf\n",
    "tickers = yf.tickers_sp500()\n",
    "# Prophet\n",
    "from prophet import Prophet\n",
    "from prophet.plot import plot_plotly\n",
    "# Interactive plots\n",
    "import plotly.io as pio\n",
    "pio.renderers.default = \"notebook_connected\"\n",
    "\n"
   ]
  },
  {
   "cell_type": "code",
   "execution_count": 17,
   "metadata": {},
   "outputs": [],
   "source": [
    "# Reading the data.\n",
    "def  get_data(ticker, start_date):\n",
    "    stock = yf.get_data(ticker, start_date = 2022/0o4/0o1, end_date = None, index_as_date = True, interval = \"1d\")\n",
    "    stock[\"date\"] = pd.to_datetime(stock.index)\n",
    "    stock.reset_index(inplace=True)\n",
    "    stock_price = stock[[\"close\",  \"date\"]]\n",
    "    stock_price.columns = ['y', 'ds']\n",
    "    return stock_price\n",
    "#print(stock.head())\n",
    "#print(stock.dtypes)\n",
    "#print(stock.open)\n",
    "#print(stock.index)\n",
    "#stock_prices = pd.read_csv(\"stock_prices.csv\")\n",
    "#stock_prices.head()"
   ]
  },
  {
   "cell_type": "code",
   "execution_count": 9,
   "metadata": {},
   "outputs": [
    {
     "name": "stdout",
     "output_type": "stream",
     "text": [
      "y            float64\n",
      "ds    datetime64[ns]\n",
      "dtype: object\n"
     ]
    }
   ],
   "source": [
    "stock[\"date\"] = pd.to_datetime(stock.index)\n",
    "stock.reset_index(inplace=True)\n",
    "#print(stock[\"date\"])\n",
    "#print(stock.head())\n",
    "stock_price = stock[[\"close\",  \"date\"]]\n",
    "stock_price.columns = ['y', 'ds']\n",
    "print(stock_price.dtypes)\n"
   ]
  },
  {
   "cell_type": "markdown",
   "metadata": {},
   "source": [
    "# Forecasting with Prophet"
   ]
  },
  {
   "cell_type": "code",
   "execution_count": 10,
   "metadata": {},
   "outputs": [
    {
     "data": {
      "text/html": [
       "<div>\n",
       "<style scoped>\n",
       "    .dataframe tbody tr th:only-of-type {\n",
       "        vertical-align: middle;\n",
       "    }\n",
       "\n",
       "    .dataframe tbody tr th {\n",
       "        vertical-align: top;\n",
       "    }\n",
       "\n",
       "    .dataframe thead th {\n",
       "        text-align: right;\n",
       "    }\n",
       "</style>\n",
       "<table border=\"1\" class=\"dataframe\">\n",
       "  <thead>\n",
       "    <tr style=\"text-align: right;\">\n",
       "      <th></th>\n",
       "      <th>y</th>\n",
       "      <th>ds</th>\n",
       "    </tr>\n",
       "  </thead>\n",
       "  <tbody>\n",
       "    <tr>\n",
       "      <th>10420</th>\n",
       "      <td>165.750000</td>\n",
       "      <td>2022-04-11</td>\n",
       "    </tr>\n",
       "    <tr>\n",
       "      <th>10421</th>\n",
       "      <td>167.660004</td>\n",
       "      <td>2022-04-12</td>\n",
       "    </tr>\n",
       "    <tr>\n",
       "      <th>10422</th>\n",
       "      <td>170.399994</td>\n",
       "      <td>2022-04-13</td>\n",
       "    </tr>\n",
       "    <tr>\n",
       "      <th>10423</th>\n",
       "      <td>165.289993</td>\n",
       "      <td>2022-04-14</td>\n",
       "    </tr>\n",
       "    <tr>\n",
       "      <th>10424</th>\n",
       "      <td>165.070007</td>\n",
       "      <td>2022-04-18</td>\n",
       "    </tr>\n",
       "    <tr>\n",
       "      <th>10425</th>\n",
       "      <td>167.399994</td>\n",
       "      <td>2022-04-19</td>\n",
       "    </tr>\n",
       "    <tr>\n",
       "      <th>10426</th>\n",
       "      <td>167.229996</td>\n",
       "      <td>2022-04-20</td>\n",
       "    </tr>\n",
       "    <tr>\n",
       "      <th>10427</th>\n",
       "      <td>166.419998</td>\n",
       "      <td>2022-04-21</td>\n",
       "    </tr>\n",
       "    <tr>\n",
       "      <th>10428</th>\n",
       "      <td>161.789993</td>\n",
       "      <td>2022-04-22</td>\n",
       "    </tr>\n",
       "    <tr>\n",
       "      <th>10429</th>\n",
       "      <td>162.880005</td>\n",
       "      <td>2022-04-25</td>\n",
       "    </tr>\n",
       "    <tr>\n",
       "      <th>10430</th>\n",
       "      <td>156.800003</td>\n",
       "      <td>2022-04-26</td>\n",
       "    </tr>\n",
       "    <tr>\n",
       "      <th>10431</th>\n",
       "      <td>156.570007</td>\n",
       "      <td>2022-04-27</td>\n",
       "    </tr>\n",
       "    <tr>\n",
       "      <th>10432</th>\n",
       "      <td>163.639999</td>\n",
       "      <td>2022-04-28</td>\n",
       "    </tr>\n",
       "    <tr>\n",
       "      <th>10433</th>\n",
       "      <td>157.649994</td>\n",
       "      <td>2022-04-29</td>\n",
       "    </tr>\n",
       "    <tr>\n",
       "      <th>10434</th>\n",
       "      <td>157.960007</td>\n",
       "      <td>2022-05-02</td>\n",
       "    </tr>\n",
       "    <tr>\n",
       "      <th>10435</th>\n",
       "      <td>159.479996</td>\n",
       "      <td>2022-05-03</td>\n",
       "    </tr>\n",
       "    <tr>\n",
       "      <th>10436</th>\n",
       "      <td>166.020004</td>\n",
       "      <td>2022-05-04</td>\n",
       "    </tr>\n",
       "    <tr>\n",
       "      <th>10437</th>\n",
       "      <td>156.770004</td>\n",
       "      <td>2022-05-05</td>\n",
       "    </tr>\n",
       "    <tr>\n",
       "      <th>10438</th>\n",
       "      <td>157.279999</td>\n",
       "      <td>2022-05-06</td>\n",
       "    </tr>\n",
       "    <tr>\n",
       "      <th>10439</th>\n",
       "      <td>152.059998</td>\n",
       "      <td>2022-05-09</td>\n",
       "    </tr>\n",
       "  </tbody>\n",
       "</table>\n",
       "</div>"
      ],
      "text/plain": [
       "                y         ds\n",
       "10420  165.750000 2022-04-11\n",
       "10421  167.660004 2022-04-12\n",
       "10422  170.399994 2022-04-13\n",
       "10423  165.289993 2022-04-14\n",
       "10424  165.070007 2022-04-18\n",
       "10425  167.399994 2022-04-19\n",
       "10426  167.229996 2022-04-20\n",
       "10427  166.419998 2022-04-21\n",
       "10428  161.789993 2022-04-22\n",
       "10429  162.880005 2022-04-25\n",
       "10430  156.800003 2022-04-26\n",
       "10431  156.570007 2022-04-27\n",
       "10432  163.639999 2022-04-28\n",
       "10433  157.649994 2022-04-29\n",
       "10434  157.960007 2022-05-02\n",
       "10435  159.479996 2022-05-03\n",
       "10436  166.020004 2022-05-04\n",
       "10437  156.770004 2022-05-05\n",
       "10438  157.279999 2022-05-06\n",
       "10439  152.059998 2022-05-09"
      ]
     },
     "execution_count": 10,
     "metadata": {},
     "output_type": "execute_result"
    }
   ],
   "source": [
    "#Getting the last 20 days to test our forecast.\n",
    "last_prices = stock_price[len(stock_price)-20:]\n",
    "last_prices"
   ]
  },
  {
   "cell_type": "code",
   "execution_count": 11,
   "metadata": {},
   "outputs": [
    {
     "data": {
      "text/plain": [
       "(10420, 2)"
      ]
     },
     "execution_count": 11,
     "metadata": {},
     "output_type": "execute_result"
    }
   ],
   "source": [
    "# Get al the rows ecxept the last 20 to train the model.\n",
    "data = stock_price[:-20]\n",
    "data.shape"
   ]
  },
  {
   "cell_type": "code",
   "execution_count": 16,
   "metadata": {},
   "outputs": [
    {
     "name": "stdout",
     "output_type": "stream",
     "text": [
      "Initial log joint probability = -1015.2\n",
      "    Iter      log prob        ||dx||      ||grad||       alpha      alpha0  # evals  Notes \n",
      "      99       23872.9     0.0126385       5490.69      0.4957      0.4957      132   \n",
      "    Iter      log prob        ||dx||      ||grad||       alpha      alpha0  # evals  Notes \n",
      "     199       24327.8      0.046487       1861.29           1           1      249   \n",
      "    Iter      log prob        ||dx||      ||grad||       alpha      alpha0  # evals  Notes \n",
      "     299       24540.1     0.0439104       4081.37           1           1      365   \n",
      "    Iter      log prob        ||dx||      ||grad||       alpha      alpha0  # evals  Notes \n",
      "     399       24669.3     0.0152295        6994.6           1           1      478   \n",
      "    Iter      log prob        ||dx||      ||grad||       alpha      alpha0  # evals  Notes \n",
      "     499       24710.5    0.00608002       1556.54           1           1      584   \n",
      "    Iter      log prob        ||dx||      ||grad||       alpha      alpha0  # evals  Notes \n",
      "     599       24756.9    0.00236739       556.829      0.9731      0.9731      703   \n",
      "    Iter      log prob        ||dx||      ||grad||       alpha      alpha0  # evals  Notes \n",
      "     699       24789.8     0.0253548        1057.8           1           1      822   \n",
      "    Iter      log prob        ||dx||      ||grad||       alpha      alpha0  # evals  Notes \n",
      "     799       24800.5    0.00120412        380.75      0.2146           1      943   \n",
      "    Iter      log prob        ||dx||      ||grad||       alpha      alpha0  # evals  Notes \n",
      "     899         24806    0.00674966        752.54      0.5208      0.9373     1068   \n",
      "    Iter      log prob        ||dx||      ||grad||       alpha      alpha0  # evals  Notes \n",
      "     999       24828.6     0.0654522       2280.89           1           1     1187   \n",
      "    Iter      log prob        ||dx||      ||grad||       alpha      alpha0  # evals  Notes \n",
      "    1099       24845.7   0.000428593       316.319           1           1     1306   \n",
      "    Iter      log prob        ||dx||      ||grad||       alpha      alpha0  # evals  Notes \n",
      "    1199       24852.8    0.00104893       283.367           1           1     1424   \n",
      "    Iter      log prob        ||dx||      ||grad||       alpha      alpha0  # evals  Notes \n",
      "    1299         24856    0.00154211       1256.92           1           1     1547   \n",
      "    Iter      log prob        ||dx||      ||grad||       alpha      alpha0  # evals  Notes \n",
      "    1399       24857.1    0.00044344       113.867           1           1     1669   \n",
      "    Iter      log prob        ||dx||      ||grad||       alpha      alpha0  # evals  Notes \n",
      "    1442       24858.1   3.73493e-05        395.74   1.313e-07       0.001     1768  LS failed, Hessian reset \n",
      "    1499       24862.1     0.0012505        280.99      0.8483      0.8483     1842   \n",
      "    Iter      log prob        ||dx||      ||grad||       alpha      alpha0  # evals  Notes \n",
      "    1599       24863.3   2.07763e-05       179.976     0.01357           1     1979   \n",
      "    Iter      log prob        ||dx||      ||grad||       alpha      alpha0  # evals  Notes \n",
      "    1699       24865.1   0.000762655       165.032      0.6054      0.6054     2102   \n",
      "    Iter      log prob        ||dx||      ||grad||       alpha      alpha0  # evals  Notes \n",
      "    1799       24866.4   0.000536059       136.066           1           1     2225   \n",
      "    Iter      log prob        ||dx||      ||grad||       alpha      alpha0  # evals  Notes \n",
      "    1885       24866.7    2.2285e-05       108.583   3.218e-07       0.001     2379  LS failed, Hessian reset \n",
      "    1899       24866.7   6.36576e-07       69.1109      0.1362      0.1362     2397   \n",
      "    Iter      log prob        ||dx||      ||grad||       alpha      alpha0  # evals  Notes \n",
      "    1904       24866.7   1.28976e-06       67.3112           1           1     2404   \n",
      "Optimization terminated normally: \n",
      "  Convergence detected: relative gradient magnitude is below tolerance\n"
     ]
    }
   ],
   "source": [
    "# Create the model\n",
    "m = Prophet(daily_seasonality=True)\n",
    "# Train the model\n",
    "model = m.fit(data)\n",
    "future =  model.make_future_dataframe(periods=365)\n",
    "forecast = model.predict(future)"
   ]
  },
  {
   "cell_type": "code",
   "execution_count": null,
   "metadata": {},
   "outputs": [],
   "source": [
    "#ploting\n",
    "plot_plotly(model, forecast)"
   ]
  },
  {
   "cell_type": "code",
   "execution_count": null,
   "metadata": {},
   "outputs": [],
   "source": [
    "# Show model prediction for 05/05/2022\n",
    "forecast[forecast.ds == \"2022-05-05\"][\"yhat\"]"
   ]
  },
  {
   "cell_type": "code",
   "execution_count": null,
   "metadata": {},
   "outputs": [],
   "source": [
    "# Show the actual value\n",
    "last_prices[last_prices.ds == \"2022-05-05\"][\"y\"]"
   ]
  },
  {
   "cell_type": "code",
   "execution_count": null,
   "metadata": {},
   "outputs": [],
   "source": [
    "m = Prophet(interval_width=0.95, daily_seasonality=True)\n",
    "model = m.fit(stock_price)"
   ]
  },
  {
   "cell_type": "code",
   "execution_count": null,
   "metadata": {},
   "outputs": [],
   "source": [
    "future = m.make_future_dataframe(periods=100,freq='D')\n",
    "forecast = m.predict(future)\n",
    "forecast.tail()"
   ]
  },
  {
   "cell_type": "code",
   "execution_count": null,
   "metadata": {},
   "outputs": [],
   "source": [
    "plot1 = m.plot(forecast)"
   ]
  },
  {
   "cell_type": "code",
   "execution_count": null,
   "metadata": {},
   "outputs": [],
   "source": [
    "\n",
    "plt2 = m.plot_components(forecast)"
   ]
  },
  {
   "cell_type": "markdown",
   "metadata": {},
   "source": [
    "params = ProphetParams(seasonality_mode='multiplicative') # additive mode gives worse results"
   ]
  }
 ],
 "metadata": {
  "interpreter": {
   "hash": "bd4fd867a48befa8578228ebda43b7fca3d2cb04ef051ceb4c0ba90b2504b0aa"
  },
  "kernelspec": {
   "display_name": "prophet39",
   "language": "python",
   "name": "prophet39"
  },
  "language_info": {
   "codemirror_mode": {
    "name": "ipython",
    "version": 3
   },
   "file_extension": ".py",
   "mimetype": "text/x-python",
   "name": "python",
   "nbconvert_exporter": "python",
   "pygments_lexer": "ipython3",
   "version": "3.9.12"
  },
  "orig_nbformat": 4
 },
 "nbformat": 4,
 "nbformat_minor": 2
}
