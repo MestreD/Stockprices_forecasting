{
 "cells": [
  {
   "cell_type": "code",
   "execution_count": null,
   "metadata": {},
   "outputs": [],
   "source": [
    "import pandas as pd\n",
    "import warnings; \n",
    "warnings.simplefilter('ignore')\n",
    "#Yahoo Finance API\n",
    "import yahoo_fin.stock_info as yfi\n",
    "tickers = yfi.tickers_sp500()\n",
    "import yfinance as yf\n",
    "# Prophet\n",
    "from prophet import Prophet\n",
    "from prophet.plot import plot_plotly\n",
    "# Interactive plots\n",
    "import plotly.io as pio\n",
    "pio.renderers.default = \"notebook_connected\"\n",
    "\n"
   ]
  },
  {
   "cell_type": "code",
   "execution_count": null,
   "metadata": {},
   "outputs": [],
   "source": [
    "# Reading the data.\n",
    "def  get_data(ticker, start_date):\n",
    "    stock = yfi.get_data(ticker, start_date = 2022/0o4/0o1, end_date = None, index_as_date = True, interval = \"1d\")\n",
    "    stock[\"date\"] = pd.to_datetime(stock.index)\n",
    "    stock.reset_index(inplace=True)\n",
    "    stock_data = stock[[\"close\",  \"date\"]]\n",
    "    stock_data.columns = ['y', 'ds']\n",
    "    return stock_data\n",
    "#print(stock.head())\n",
    "#print(stock.dtypes)\n",
    "#print(stock.open)\n",
    "#print(stock.index)\n",
    "#stock_prices = pd.read_csv(\"stock_prices.csv\")\n",
    "#stock_prices.head()"
   ]
  },
  {
   "cell_type": "markdown",
   "metadata": {},
   "source": [
    "# Forecasting with Prophet"
   ]
  },
  {
   "cell_type": "code",
   "execution_count": null,
   "metadata": {},
   "outputs": [],
   "source": [
    "#Getting the last 20 days to test our forecast.\n",
    "last_prices = stock_data[len(stock_data)-20:]\n",
    "last_prices"
   ]
  },
  {
   "cell_type": "code",
   "execution_count": null,
   "metadata": {},
   "outputs": [],
   "source": [
    "# Get al the rows ecxept the last 20 to train the model.\n",
    "data = stock_data[:-20]\n",
    "data.shape"
   ]
  },
  {
   "cell_type": "code",
   "execution_count": null,
   "metadata": {},
   "outputs": [],
   "source": [
    "# Create the model\n",
    "m = Prophet(daily_seasonality=True)\n",
    "# Train the model\n",
    "model = m.fit(data)\n",
    "future =  model.make_future_dataframe(periods=365)\n",
    "forecast = model.predict(future)"
   ]
  },
  {
   "cell_type": "code",
   "execution_count": null,
   "metadata": {},
   "outputs": [],
   "source": [
    "#ploting\n",
    "plot_plotly(model, forecast)"
   ]
  },
  {
   "cell_type": "code",
   "execution_count": null,
   "metadata": {},
   "outputs": [],
   "source": [
    "# Show model prediction for 05/05/2022\n",
    "forecast[forecast.ds == \"2022-05-05\"][\"yhat\"]"
   ]
  },
  {
   "cell_type": "code",
   "execution_count": null,
   "metadata": {},
   "outputs": [],
   "source": [
    "# Show the actual value\n",
    "last_prices[last_prices.ds == \"2022-05-05\"][\"y\"]"
   ]
  },
  {
   "cell_type": "code",
   "execution_count": null,
   "metadata": {},
   "outputs": [],
   "source": [
    "\n",
    "def prophet(stock_data):\n",
    "    m = Prophet(interval_width=0.95, daily_seasonality=True)\n",
    "    model = m.fit(stock_data)\n",
    "    future = m.make_future_dataframe(periods=100,freq='D')\n",
    "    forecast = m.predict(future)\n",
    "    return forecast"
   ]
  },
  {
   "cell_type": "code",
   "execution_count": null,
   "metadata": {},
   "outputs": [],
   "source": [
    "forecast = prophet(stock_data)\n",
    "forecast.tail()"
   ]
  },
  {
   "cell_type": "code",
   "execution_count": null,
   "metadata": {},
   "outputs": [],
   "source": [
    "plot1 = m.plot(forecast)"
   ]
  },
  {
   "cell_type": "code",
   "execution_count": null,
   "metadata": {},
   "outputs": [],
   "source": [
    "\n",
    "plt2 = m.plot_components(forecast)"
   ]
  },
  {
   "cell_type": "markdown",
   "metadata": {},
   "source": [
    "params = ProphetParams(seasonality_mode='multiplicative') # additive mode gives worse results"
   ]
  }
 ],
 "metadata": {
  "interpreter": {
   "hash": "bd4fd867a48befa8578228ebda43b7fca3d2cb04ef051ceb4c0ba90b2504b0aa"
  },
  "kernelspec": {
   "display_name": "prophet39",
   "language": "python",
   "name": "prophet39"
  },
  "language_info": {
   "codemirror_mode": {
    "name": "ipython",
    "version": 3
   },
   "file_extension": ".py",
   "mimetype": "text/x-python",
   "name": "python",
   "nbconvert_exporter": "python",
   "pygments_lexer": "ipython3",
   "version": "3.9.12"
  },
  "orig_nbformat": 4
 },
 "nbformat": 4,
 "nbformat_minor": 2
}
